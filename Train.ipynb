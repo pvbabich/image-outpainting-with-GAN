{
 "cells": [
  {
   "cell_type": "code",
   "execution_count": null,
   "id": "3f9865b0-fba5-444a-886f-e69c390c9094",
   "metadata": {},
   "outputs": [],
   "source": [
    "import torch\n",
    "import torch.nn.functional as F\n",
    "from torchvision.transforms import ToTensor\n",
    "from torchvision.transforms.functional import crop\n",
    "import torchvision.models as models\n",
    "import os\n",
    "import cv2\n",
    "import random\n",
    "import scipy\n",
    "import skimage\n",
    "import numpy as np\n",
    "import matplotlib.pyplot as plt\n",
    "import glob\n",
    "import time\n",
    "from PIL import Image\n",
    "from tqdm import tqdm\n",
    "from torchvision import datasets, transforms\n",
    "from torch.utils.data import Dataset, DataLoader\n",
    "from torch import nn, optim\n",
    "from torch.autograd import Variable\n",
    "from pytorch_msssim import ssim, ms_ssim, SSIM, MS_SSIM\n",
    "import torch.optim as optim\n",
    "from Model import *\n",
    "from Prepare import preprocessing\n",
    "from Generate import generate"
   ]
  },
  {
   "cell_type": "code",
   "execution_count": null,
   "id": "dcd09266-c025-41e5-b123-b3dc546645c8",
   "metadata": {},
   "outputs": [],
   "source": [
    "from Config import OutpaintingConfig\n",
    "config = OutpaintingConfig()\n",
    "config.display()"
   ]
  },
  {
   "cell_type": "code",
   "execution_count": null,
   "id": "75e38a28-b868-40fc-a359-bef0925acf9c",
   "metadata": {},
   "outputs": [],
   "source": [
    "cropped_size = config.CROPPED_SIZE\n",
    "output_size = config.OUTPUT_SIZE\n",
    "expand_size = (output_size - cropped_size) // 2"
   ]
  },
  {
   "cell_type": "markdown",
   "id": "4bdc27fb-5c38-4e45-a378-6f33ac19598c",
   "metadata": {
    "jp-MarkdownHeadingCollapsed": true,
    "tags": []
   },
   "source": [
    "### Preprocessing"
   ]
  },
  {
   "cell_type": "code",
   "execution_count": null,
   "id": "f1ab722c-a2d8-44ee-b2f9-9a05698fcbf2",
   "metadata": {},
   "outputs": [],
   "source": [
    "preprocessing(cropped_size, output_size, expand_size)\n",
    "preprocessing(cropped_size, output_size, expand_size, target_dir='val')"
   ]
  },
  {
   "cell_type": "markdown",
   "id": "a6475293-1e93-4ce5-8e5b-93e38e1ea59f",
   "metadata": {},
   "source": [
    "### Declare"
   ]
  },
  {
   "cell_type": "code",
   "execution_count": null,
   "id": "b7e385bc-c9df-4248-b28e-971ecf5100ab",
   "metadata": {},
   "outputs": [],
   "source": [
    "gen = Generator()\n",
    "dis = Discriminator()\n",
    "\n",
    "gpu_device = torch.device('cuda:0')\n",
    "cpu_device = torch.device(\"cpu\")\n",
    "gen.to(gpu_device)\n",
    "dis.to(gpu_device)"
   ]
  },
  {
   "cell_type": "code",
   "execution_count": null,
   "id": "0330d206-ef92-458b-aaa1-c922f1b69e9b",
   "metadata": {},
   "outputs": [],
   "source": [
    "SSIM_MODULE = SSIM(data_range=1, size_average=True, channel=3)\n",
    "Loss_L1 = nn.L1Loss()\n",
    "optimizer_G = optim.Adam(gen.parameters(), lr=config.LEARNING_RATE, betas=config.ADAM_BETAS)\n",
    "\n",
    "Loss_BCE = nn.BCELoss()\n",
    "optimizer_D = optim.Adam(dis.parameters(), lr=config.LEARNING_RATE, betas=config.ADAM_BETAS)\n",
    "\n",
    "VGG16_MODULE = models.vgg16(pretrained=True).to(gpu_device)\n",
    "Loss_MSE = nn.MSELoss()\n",
    "\n",
    "trainset = OutpaintingDataset('./dataset/train')\n",
    "trainloader = torch.utils.data.DataLoader(trainset, batch_size=config.BATCH_SIZE, shuffle=True, num_workers=4)"
   ]
  },
  {
   "cell_type": "markdown",
   "id": "da0652a1-264c-4e11-b219-26355fb7dcbf",
   "metadata": {
    "jp-MarkdownHeadingCollapsed": true,
    "tags": []
   },
   "source": [
    "### Load Model"
   ]
  },
  {
   "cell_type": "code",
   "execution_count": null,
   "id": "b4f579a5-f637-4d1c-8d54-5b390c1ff1c2",
   "metadata": {},
   "outputs": [],
   "source": [
    "checkpoint_G = torch.load('generator_final.tar')\n",
    "gen.load_state_dict(checkpoint_G['model_state_dict'])\n",
    "optimizer_G.load_state_dict(checkpoint_G['optimizer_state_dict'])\n",
    "epoch = checkpoint_G['epoch']\n",
    "loss_pxl = checkpoint_G['loss_pxl']\n",
    "loss_adv = checkpoint_G['loss_adv']\n",
    "loss_pxl_array = checkpoint_G['loss_pxl_array']\n",
    "loss_adv_array = checkpoint_G['loss_adv_array']"
   ]
  },
  {
   "cell_type": "code",
   "execution_count": null,
   "id": "d67d8b41-71b6-46e6-a0e2-6b0c624d9e99",
   "metadata": {},
   "outputs": [],
   "source": [
    "checkpoint_D = torch.load('discriminator_final.tar')\n",
    "dis.load_state_dict(checkpoint_D['model_state_dict'])\n",
    "optimizer_D.load_state_dict(checkpoint_D['optimizer_state_dict'])\n",
    "epoch = checkpoint_D['epoch']\n",
    "loss_D = checkpoint_D['loss']\n",
    "loss_D_array = checkpoint_D['loss_D_array']"
   ]
  },
  {
   "cell_type": "markdown",
   "id": "d069db04-0d74-4b33-8e36-5e52b860273c",
   "metadata": {
    "tags": []
   },
   "source": [
    "### Train"
   ]
  },
  {
   "cell_type": "code",
   "execution_count": null,
   "id": "6bedde73-dc2d-458d-a199-8ceec707c4c6",
   "metadata": {},
   "outputs": [],
   "source": [
    "try: epoch\n",
    "except: epoch = 1\n",
    "\n",
    "try: loss_pxl_array\n",
    "except: loss_pxl_array = []\n",
    "\n",
    "try: loss_per_array\n",
    "except: loss_per_array = []\n",
    "\n",
    "try: loss_adv_array\n",
    "except: loss_adv_array = []\n",
    "\n",
    "try: loss_D_array\n",
    "except: loss_D_array = []"
   ]
  },
  {
   "cell_type": "code",
   "execution_count": null,
   "id": "2f5c07cd-0500-4594-8520-f7fd76c86d99",
   "metadata": {},
   "outputs": [],
   "source": [
    "Tensor = torch.cuda.FloatTensor\n",
    "\n",
    "n = 1000\n",
    "alpha_pxl = config.LOSS_WEIGHTS['PIXEL']\n",
    "alpha_per = config.LOSS_WEIGHTS['PER']\n",
    "alpha_adv = config.LOSS_WEIGHTS['ADV']\n",
    "\n",
    "while epoch <= 125:\n",
    "    \n",
    "    running_loss_pxl = 0.0\n",
    "    running_loss_per = 0.0\n",
    "    running_loss_adv = 0.0\n",
    "    running_loss_D = 0.0\n",
    "    \n",
    "    for i, data in enumerate(trainloader, 0):\n",
    "        # dataset input\n",
    "        inputs, gt = data\n",
    "        inputs = inputs.to(gpu_device)\n",
    "        gt = gt.to(gpu_device)\n",
    "        gt_cr = crop(gt, 0, expand_size, output_size, cropped_size)\n",
    "        # grad to zero\n",
    "        optimizer_G.zero_grad()\n",
    "        ###-----------###\n",
    "        ### GENERATOR ###\n",
    "        ###-----------###\n",
    "        outputs = gen(inputs)\n",
    "        \n",
    "        valid = torch.ones(outputs.shape[0],1).to(gpu_device)\n",
    "        fake = torch.zeros(outputs.shape[0],1).to(gpu_device)\n",
    "        \n",
    "        \n",
    "        loss_vgg = Loss_MSE(VGG16_MODULE(crop(outputs, 0, expand_size, output_size, cropped_size)), VGG16_MODULE(gt_cr))\n",
    "        \n",
    "        # loss_ssim = 1 - SSIM_MODULE(crop(outputs, 0, expand_size, output_size, cropped_size), gt_cr) # лосс структурный\n",
    "        if config.PIXEL_LOSS == 'L1':\n",
    "            loss_pxl = Loss_L1(crop(outputs, 0, expand_size, output_size, cropped_size), gt_cr) # лосс пиксельный\n",
    "        if config.PIXEL_LOSS == 'MSE':\n",
    "            loss_pxl = Loss_MSE(crop(outputs, 0, expand_size, output_size, cropped_size), gt_cr) # лосс пиксельный \n",
    "        \n",
    "        if config.PER_LOSS == 'SSIM':\n",
    "            loss_per = 1 - SSIM_MODULE(crop(outputs, 0, expand_size, output_size, cropped_size), gt_cr) # лосс структурный\n",
    "        if config.PER_LOSS == 'VGG':\n",
    "            loss_per = Loss_MSE(VGG16_MODULE(crop(outputs, 0, expand_size, output_size, cropped_size)), VGG16_MODULE(gt_cr))\n",
    "        \n",
    "        loss_adv = Loss_BCE(dis(outputs), valid) # лосс от дискриминатора\n",
    "        loss_G = alpha_pxl*loss_pxl + alpha_per*loss_per + alpha_adv*loss_adv\n",
    "        \n",
    "        # шажок генератора\n",
    "        loss_G.backward()\n",
    "        optimizer_G.step()\n",
    "        \n",
    "        ###---------------###\n",
    "        ### ДИСКРИМИНАТОР ###\n",
    "        ###---------------###\n",
    "        \n",
    "        #\n",
    "        optimizer_D.zero_grad()\n",
    "        \n",
    "        loss_valid = Loss_BCE(dis(gt), valid)\n",
    "        loss_fake = Loss_BCE(dis(outputs.detach()), fake)\n",
    "        loss_D = loss_valid + loss_fake\n",
    "        \n",
    "        loss_D.backward()\n",
    "        optimizer_D.step()\n",
    "        \n",
    "        ###-------------###\n",
    "        ### ЛОГИРОВАНИЕ ###\n",
    "        ###-------------###\n",
    "        \n",
    "        running_loss_pxl += loss_pxl.item()\n",
    "        running_loss_per += loss_per.item()\n",
    "        running_loss_adv += loss_adv.item()\n",
    "        running_loss_D += loss_D.item()\n",
    "        \n",
    "        if i % n == n-1:\n",
    "            print(f'[{epoch}, {i + 1:5d}] loss_pxl: {running_loss_pxl / n:.4f} loss_per: {running_loss_per / n:.3f} loss_adv: {running_loss_adv / n:.3f} loss_D: {running_loss_D / n:.3f}')\n",
    "            loss_pxl_array.append(running_loss_pxl / n)\n",
    "            loss_per_array.append(running_loss_vgg / n)\n",
    "            loss_adv_array.append(running_loss_adv / n)\n",
    "            loss_D_array.append(running_loss_D / n)\n",
    "            \n",
    "            running_loss_pxl = 0.0\n",
    "            running_loss_per = 0.0\n",
    "            running_loss_adv = 0.0\n",
    "            running_loss_D = 0.0\n",
    "            \n",
    "            \n",
    "            \n",
    "            \n",
    "            \n",
    "            \n",
    "    in_img = transforms.ToPILImage()(torch.squeeze(inputs[0], 0).to(cpu_device))\n",
    "    gen_img = transforms.ToPILImage()(torch.squeeze(gen(inputs)[0], 0).to(cpu_device))\n",
    "    gt_img = transforms.ToPILImage()(torch.squeeze(gt[0], 0).to(cpu_device))\n",
    "            \n",
    "    fig, axarr = plt.subplots(1,3,figsize=(18,6))\n",
    "    axarr[0].imshow(in_img)\n",
    "    axarr[1].imshow(gen_img)\n",
    "    axarr[2].imshow(gt_img)\n",
    "            \n",
    "    fig.savefig('epoch ' + str(epoch).zfill(3) + '.jpg', dpi=50)\n",
    "    \n",
    "    \n",
    "    epoch += 1\n",
    "\n",
    "print('Done')"
   ]
  },
  {
   "cell_type": "markdown",
   "id": "15e2a316-d08b-4a0a-84f5-de73b4bdda38",
   "metadata": {
    "jp-MarkdownHeadingCollapsed": true,
    "tags": []
   },
   "source": [
    "### Save"
   ]
  },
  {
   "cell_type": "code",
   "execution_count": null,
   "id": "2ffb1f12-58b9-4137-a951-5a2dea58d9c4",
   "metadata": {},
   "outputs": [],
   "source": [
    "torch.save({\n",
    "            'epoch': epoch,\n",
    "            'model_state_dict': gen.state_dict(),\n",
    "            'optimizer_state_dict': optimizer_G.state_dict(),\n",
    "            'loss_pxl': loss_pxl,\n",
    "            'loss_per': loss_per,\n",
    "            'loss_adv': loss_adv,\n",
    "            'loss_pxl_array': loss_pxl_array,\n",
    "            'loss_adv_array': loss_adv_array,\n",
    "            }, 'gen_model-vgg-'+str(epoch).zfill(3)+'.tar')\n",
    "torch.save({\n",
    "            'epoch': epoch,\n",
    "            'model_state_dict': dis.state_dict(),\n",
    "            'optimizer_state_dict': optimizer_D.state_dict(),\n",
    "            'loss': loss_D,\n",
    "            'loss_D_array': loss_D_array,\n",
    "            }, 'dis_model-'+str(epoch).zfill(3)+'.tar')"
   ]
  },
  {
   "cell_type": "markdown",
   "id": "72d1494e-96cb-49c2-9b67-e414b7283e64",
   "metadata": {
    "tags": []
   },
   "source": [
    "### Show"
   ]
  },
  {
   "cell_type": "code",
   "execution_count": null,
   "id": "2006c72c-182c-4085-a59d-d3460737dc97",
   "metadata": {},
   "outputs": [],
   "source": [
    "img_name =  random.choice(os.listdir('dataset/val/cropped')) # 'badlands00000002.jpg'\n",
    "cropped_img_path = 'dataset/val/cropped/'+img_name\n",
    "gt_img_path = 'dataset/val/gt/'+img_name\n",
    "\n",
    "in_img = Image.open(cropped_img_path)\n",
    "gen_img = generate(cropped_img_path)\n",
    "gt_img = Image.open(gt_img_path)\n",
    "     \n",
    "fig, axarr = plt.subplots(1,3,figsize=(18,6))\n",
    "axarr[0].imshow(in_img)\n",
    "axarr[1].imshow(gen_img)\n",
    "axarr[2].imshow(gt_img)\n",
    "\n",
    "# fig.savefig('test.jpg', dpi=50)"
   ]
  },
  {
   "cell_type": "code",
   "execution_count": null,
   "id": "d142771c-be07-4dd5-85e2-2683dda5bc4b",
   "metadata": {},
   "outputs": [],
   "source": [
    "plt.scatter(range(len(loss_pxl_array)), loss_pxl_array)\n",
    "plt.show()"
   ]
  },
  {
   "cell_type": "code",
   "execution_count": null,
   "id": "910eda9a-0ff5-4fea-839d-b99bf0a8597f",
   "metadata": {},
   "outputs": [],
   "source": []
  }
 ],
 "metadata": {
  "kernelspec": {
   "display_name": "Python 3 (ipykernel)",
   "language": "python",
   "name": "python3"
  },
  "language_info": {
   "codemirror_mode": {
    "name": "ipython",
    "version": 3
   },
   "file_extension": ".py",
   "mimetype": "text/x-python",
   "name": "python",
   "nbconvert_exporter": "python",
   "pygments_lexer": "ipython3",
   "version": "3.8.10"
  }
 },
 "nbformat": 4,
 "nbformat_minor": 5
}
